{
  "nbformat": 4,
  "nbformat_minor": 0,
  "metadata": {
    "colab": {
      "provenance": []
    },
    "kernelspec": {
      "name": "python3",
      "display_name": "Python 3"
    },
    "language_info": {
      "name": "python"
    }
  },
  "cells": [
    {
      "cell_type": "markdown",
      "source": [
        "using tesseract and opencv"
      ],
      "metadata": {
        "id": "yQXcXIc07bmG"
      }
    },
    {
      "cell_type": "code",
      "source": [
        "!apt-get install tesseract-ocr"
      ],
      "metadata": {
        "colab": {
          "base_uri": "https://localhost:8080/"
        },
        "id": "E8o0Kgb77Mfx",
        "outputId": "1a1d59c8-baac-4202-e03d-d50a2ca34259"
      },
      "execution_count": null,
      "outputs": [
        {
          "output_type": "stream",
          "name": "stdout",
          "text": [
            "Reading package lists... Done\n",
            "Building dependency tree... Done\n",
            "Reading state information... Done\n",
            "tesseract-ocr is already the newest version (4.1.1-2.1build1).\n",
            "0 upgraded, 0 newly installed, 0 to remove and 16 not upgraded.\n"
          ]
        }
      ]
    },
    {
      "cell_type": "code",
      "source": [
        "pip install pytesseract pip install opencv-python"
      ],
      "metadata": {
        "colab": {
          "base_uri": "https://localhost:8080/"
        },
        "id": "mbgLfMJ25vXS",
        "outputId": "3a0b3291-df12-4278-d8a9-770cdda11586"
      },
      "execution_count": null,
      "outputs": [
        {
          "output_type": "stream",
          "name": "stdout",
          "text": [
            "Requirement already satisfied: pytesseract in /usr/local/lib/python3.10/dist-packages (0.3.10)\n",
            "Requirement already satisfied: pip in /usr/local/lib/python3.10/dist-packages (23.1.2)\n",
            "Requirement already satisfied: install in /usr/local/lib/python3.10/dist-packages (1.3.5)\n",
            "Requirement already satisfied: opencv-python in /usr/local/lib/python3.10/dist-packages (4.8.0.76)\n",
            "Requirement already satisfied: packaging>=21.3 in /usr/local/lib/python3.10/dist-packages (from pytesseract) (23.1)\n",
            "Requirement already satisfied: Pillow>=8.0.0 in /usr/local/lib/python3.10/dist-packages (from pytesseract) (9.4.0)\n",
            "Requirement already satisfied: numpy>=1.21.2 in /usr/local/lib/python3.10/dist-packages (from opencv-python) (1.23.5)\n"
          ]
        }
      ]
    },
    {
      "cell_type": "code",
      "execution_count": null,
      "metadata": {
        "id": "8Gu_1-ZK4pcR"
      },
      "outputs": [],
      "source": [
        "import cv2 as cv\n",
        "import pytesseract as pyt"
      ]
    },
    {
      "cell_type": "code",
      "source": [
        "image1 = cv.imread('resume.jpeg')"
      ],
      "metadata": {
        "id": "wgfmLZRv4_Jq"
      },
      "execution_count": null,
      "outputs": []
    },
    {
      "cell_type": "code",
      "source": [
        "text1 = pyt.image_to_string(image1)"
      ],
      "metadata": {
        "id": "8dkFwS5j54oA"
      },
      "execution_count": null,
      "outputs": []
    },
    {
      "cell_type": "code",
      "source": [
        "print(text1)"
      ],
      "metadata": {
        "colab": {
          "base_uri": "https://localhost:8080/"
        },
        "id": "fN9HmzMJ6GF3",
        "outputId": "a3556e99-c4a3-4bb4-e21b-0e395de5d9d6"
      },
      "execution_count": null,
      "outputs": [
        {
          "output_type": "stream",
          "name": "stdout",
          "text": [
            " \n",
            " \n",
            "\n",
            "https://www.|linkedin.com/in/\n",
            "\n",
            "©7491 9176022850 9 236084, dif garden city, [XJ : ananya22x22@gmail.com\n",
            "ananya-viswanath-697a79220\n",
            "\n",
            "semmenchery, chennai-\n",
            "600119, Tamil nadu, india\n",
            "\n",
            "ANANYA\n",
            "VISWANATH\n",
            "\n",
            "FIRST YEAR UNDERGRADUATE STUDENT PURSUING COMPUTER SCIENCE\n",
            "WITH SPECIALIZATION IN ARTIFICIAL INTELLIGENCE AND MACHINE\n",
            "LEARNING AT VELLORE INSTITUTE OF TECHNOLOGY\n",
            "\n",
            "ABOUT ME\n",
            "\n",
            " \n",
            "\n",
            "I'M ANANYA VISWANATH FROM THE VIBRANT CITY, CHENNAI. I'M A FIRST-YEAR UNDERGRADUATE STUDENT\n",
            "AT VIT, CHENNAI. I'M A RELIABLE PERSON WHO IS GREAT AT TIME MANAGEMENT AND ALSO A TEAM PLAYER\n",
            "WHO WORKS WELL WITH PEERS. I'M ORGANIZED AND DRIVEN TO ACHIEVE AND CREATE TO THE MAXIMUM OF\n",
            "MY ABILITIES. | ENJOY PURSUING SOCIAL WORK IN MY FREE TIME.\n",
            "\n",
            "EDUCATION\n",
            "\n",
            " \n",
            "\n",
            " \n",
            "\n",
            "2019 - 2021 2021 - now\n",
            "Sri Chaitanya Techno Vellore Institute of\n",
            "School Technology\n",
            "Computer science as Computer science with\n",
            "school elective specialization in Artificial\n",
            "Intelligence and Machine\n",
            "Learning\n",
            "EXPERIENCE\n",
            "\n",
            " \n",
            "\n",
            "¢ CREATED A HEALTH MONITORING SYSTEM ML MODEL\n",
            "« COMPLETED A PYTHON COURSE ON COURSERA\n",
            "\n",
            "INTERESTS SOFWARE SKILLS\n",
            "\n",
            "we Theatre\n",
            "\n",
            "OW cycling\n",
            "(i@F) Photography PY ¢c ML J\n",
            "2s Swimming\n",
            "\n",
            "* Contemporary Dance\n",
            "\f\n"
          ]
        }
      ]
    },
    {
      "cell_type": "markdown",
      "source": [
        "using easyocr"
      ],
      "metadata": {
        "id": "4-96-Ej67jNF"
      }
    },
    {
      "cell_type": "code",
      "source": [
        "pip install easyocr"
      ],
      "metadata": {
        "colab": {
          "base_uri": "https://localhost:8080/"
        },
        "id": "OTZvmuE07k-A",
        "outputId": "09634b26-607f-4ce8-a955-3f626142a00c"
      },
      "execution_count": null,
      "outputs": [
        {
          "output_type": "stream",
          "name": "stdout",
          "text": [
            "Requirement already satisfied: easyocr in /usr/local/lib/python3.10/dist-packages (1.7.0)\n",
            "Requirement already satisfied: torch in /usr/local/lib/python3.10/dist-packages (from easyocr) (2.0.1+cu118)\n",
            "Requirement already satisfied: torchvision>=0.5 in /usr/local/lib/python3.10/dist-packages (from easyocr) (0.15.2+cu118)\n",
            "Requirement already satisfied: opencv-python-headless in /usr/local/lib/python3.10/dist-packages (from easyocr) (4.8.0.76)\n",
            "Requirement already satisfied: scipy in /usr/local/lib/python3.10/dist-packages (from easyocr) (1.10.1)\n",
            "Requirement already satisfied: numpy in /usr/local/lib/python3.10/dist-packages (from easyocr) (1.23.5)\n",
            "Requirement already satisfied: Pillow in /usr/local/lib/python3.10/dist-packages (from easyocr) (9.4.0)\n",
            "Requirement already satisfied: scikit-image in /usr/local/lib/python3.10/dist-packages (from easyocr) (0.19.3)\n",
            "Requirement already satisfied: python-bidi in /usr/local/lib/python3.10/dist-packages (from easyocr) (0.4.2)\n",
            "Requirement already satisfied: PyYAML in /usr/local/lib/python3.10/dist-packages (from easyocr) (6.0.1)\n",
            "Requirement already satisfied: Shapely in /usr/local/lib/python3.10/dist-packages (from easyocr) (2.0.1)\n",
            "Requirement already satisfied: pyclipper in /usr/local/lib/python3.10/dist-packages (from easyocr) (1.3.0.post4)\n",
            "Requirement already satisfied: ninja in /usr/local/lib/python3.10/dist-packages (from easyocr) (1.11.1)\n",
            "Requirement already satisfied: requests in /usr/local/lib/python3.10/dist-packages (from torchvision>=0.5->easyocr) (2.31.0)\n",
            "Requirement already satisfied: filelock in /usr/local/lib/python3.10/dist-packages (from torch->easyocr) (3.12.2)\n",
            "Requirement already satisfied: typing-extensions in /usr/local/lib/python3.10/dist-packages (from torch->easyocr) (4.7.1)\n",
            "Requirement already satisfied: sympy in /usr/local/lib/python3.10/dist-packages (from torch->easyocr) (1.12)\n",
            "Requirement already satisfied: networkx in /usr/local/lib/python3.10/dist-packages (from torch->easyocr) (3.1)\n",
            "Requirement already satisfied: jinja2 in /usr/local/lib/python3.10/dist-packages (from torch->easyocr) (3.1.2)\n",
            "Requirement already satisfied: triton==2.0.0 in /usr/local/lib/python3.10/dist-packages (from torch->easyocr) (2.0.0)\n",
            "Requirement already satisfied: cmake in /usr/local/lib/python3.10/dist-packages (from triton==2.0.0->torch->easyocr) (3.27.2)\n",
            "Requirement already satisfied: lit in /usr/local/lib/python3.10/dist-packages (from triton==2.0.0->torch->easyocr) (16.0.6)\n",
            "Requirement already satisfied: six in /usr/local/lib/python3.10/dist-packages (from python-bidi->easyocr) (1.16.0)\n",
            "Requirement already satisfied: imageio>=2.4.1 in /usr/local/lib/python3.10/dist-packages (from scikit-image->easyocr) (2.31.1)\n",
            "Requirement already satisfied: tifffile>=2019.7.26 in /usr/local/lib/python3.10/dist-packages (from scikit-image->easyocr) (2023.8.12)\n",
            "Requirement already satisfied: PyWavelets>=1.1.1 in /usr/local/lib/python3.10/dist-packages (from scikit-image->easyocr) (1.4.1)\n",
            "Requirement already satisfied: packaging>=20.0 in /usr/local/lib/python3.10/dist-packages (from scikit-image->easyocr) (23.1)\n",
            "Requirement already satisfied: MarkupSafe>=2.0 in /usr/local/lib/python3.10/dist-packages (from jinja2->torch->easyocr) (2.1.3)\n",
            "Requirement already satisfied: charset-normalizer<4,>=2 in /usr/local/lib/python3.10/dist-packages (from requests->torchvision>=0.5->easyocr) (3.2.0)\n",
            "Requirement already satisfied: idna<4,>=2.5 in /usr/local/lib/python3.10/dist-packages (from requests->torchvision>=0.5->easyocr) (3.4)\n",
            "Requirement already satisfied: urllib3<3,>=1.21.1 in /usr/local/lib/python3.10/dist-packages (from requests->torchvision>=0.5->easyocr) (2.0.4)\n",
            "Requirement already satisfied: certifi>=2017.4.17 in /usr/local/lib/python3.10/dist-packages (from requests->torchvision>=0.5->easyocr) (2023.7.22)\n",
            "Requirement already satisfied: mpmath>=0.19 in /usr/local/lib/python3.10/dist-packages (from sympy->torch->easyocr) (1.3.0)\n"
          ]
        }
      ]
    },
    {
      "cell_type": "code",
      "source": [
        "import easyocr as ocr"
      ],
      "metadata": {
        "id": "V37peOzf7rCS"
      },
      "execution_count": null,
      "outputs": []
    },
    {
      "cell_type": "code",
      "source": [
        "reader = ocr.Reader(['en'])"
      ],
      "metadata": {
        "colab": {
          "base_uri": "https://localhost:8080/"
        },
        "id": "eXyDTSV37vx6",
        "outputId": "767bfcd5-d5f7-42de-e2c2-1d3080308434"
      },
      "execution_count": null,
      "outputs": [
        {
          "output_type": "stream",
          "name": "stderr",
          "text": [
            "WARNING:easyocr.easyocr:Neither CUDA nor MPS are available - defaulting to CPU. Note: This module is much faster with a GPU.\n"
          ]
        }
      ]
    },
    {
      "cell_type": "code",
      "source": [
        "result = reader.readtext('resume.jpeg')"
      ],
      "metadata": {
        "id": "wM7UuRmw8AYL"
      },
      "execution_count": null,
      "outputs": []
    },
    {
      "cell_type": "code",
      "source": [
        "print(result)"
      ],
      "metadata": {
        "colab": {
          "base_uri": "https://localhost:8080/"
        },
        "id": "dbRExbc89DJz",
        "outputId": "80ced494-6f4a-40b9-d228-8a3bffc51172"
      },
      "execution_count": null,
      "outputs": [
        {
          "output_type": "stream",
          "name": "stdout",
          "text": [
            "[([[103, 113], [243, 113], [243, 133], [103, 133]], '+91 9176022850', 0.9964068564258458), ([[298, 109], [482, 109], [482, 138], [298, 138]], '36084, dlf garden city,', 0.9787645546784429), ([[558, 110], [770, 110], [770, 136], [558, 136]], 'ananya22x22@gmail.com', 0.7073298863640832), ([[813, 113], [1058, 113], [1058, 139], [813, 139]], ':https:I /www linkedin com/in/', 0.3342118120693971), ([[287, 132], [484, 132], [484, 162], [287, 162]], 'semmenchery, chennai-', 0.775610994384252), ([[815, 134], [1062, 134], [1062, 164], [815, 164]], 'ananya-viswanath-697a79220', 0.9524366941576137), ([[280, 160], [492, 160], [492, 184], [280, 184]], '600119, Tamil nadu; india', 0.7357486504304327), ([[115, 191], [421, 191], [421, 255], [115, 255]], 'ANANYA', 0.9992027961836423), ([[115, 257], [559, 257], [559, 323], [115, 323]], 'VISWANATH', 0.9998789989107162), ([[119, 333], [759, 333], [759, 353], [119, 353]], 'FIRST YEAR UNDERGRADUATE STUDENT PURSUING COMPUTER SCIENCE', 0.740540585816245), ([[119, 357], [169, 357], [169, 377], [119, 377]], 'WITH', 0.9946977496147156), ([[177, 357], [329, 357], [329, 377], [177, 377]], 'SPECIALIZATION', 0.999740056512674), ([[337, 357], [363, 357], [363, 377], [337, 377]], 'IN', 0.9952065547686126), ([[372, 356], [474, 356], [474, 376], [372, 376]], 'ARTIFICIAL', 0.9998857357282948), ([[483, 356], [611, 356], [611, 376], [483, 376]], 'INTELLIGENCE', 0.5676116229943584), ([[621, 357], [663, 357], [663, 377], [621, 377]], 'AND', 0.9999947692626615), ([[671, 357], [759, 357], [759, 377], [671, 377]], 'MACHINE', 0.770548361764488), ([[119, 381], [565, 381], [565, 401], [119, 401]], 'LEARNING AT VELLORE INSTITUTE OF TECHNOLOGY', 0.6924122695954819), ([[448, 420], [602, 420], [602, 450], [448, 450]], 'A B 0 U T', 0.8155630304039587), ([[616, 420], [676, 420], [676, 450], [616, 450]], 'M E', 0.9171755909919739), ([[76, 493], [1058, 493], [1058, 521], [76, 521]], \"I ANANYA VISWANATH FROM THE VIBRANT CITY,CHENNAI. I'MA FIRST-YEAR UNDERCRADUATE STUDENT\", 0.5695027392512017), ([[82, 526], [1054, 526], [1054, 554], [82, 554]], \"AT VIT,CHENNAL I'M A RELIABLE PERSON WHO IS CREAT AT TIME MANACEMENT AND ALSO A TEAM PLAYER\", 0.45451653746798565), ([[74, 564], [1062, 564], [1062, 588], [74, 588]], 'WHO WORKS WELL WITH PEERS. |M ORCANIZED AND DRIVEN TO ACHIEVE AND CREATE TO THE MAXIMUM OF', 0.4936284982762671), ([[272, 597], [395, 597], [395, 622], [272, 622]], 'MY ABILITIES_', 0.47621874653241747), ([[410, 598], [860, 598], [860, 622], [410, 622]], 'ENJOY PURSUINC SOCIAL WORK IN MY FREE TIME:', 0.8030872589011547), ([[438, 703], [694, 703], [694, 735], [438, 735]], 'E D U C A T | 0 N', 0.5681170421775492), ([[294, 768], [368, 768], [368, 798], [294, 798]], '2019', 0.9999998807907104), ([[384, 768], [454, 768], [454, 798], [384, 798]], '2021', 0.5764027132204631), ([[710, 768], [780, 768], [780, 798], [710, 798]], '2021', 0.9999986290931702), ([[800, 772], [858, 772], [858, 796], [800, 796]], 'now', 0.9998889852692446), ([[243, 802], [507, 802], [507, 842], [243, 842]], 'Sri Chaitanya Techno', 0.9956710792135061), ([[671, 806], [900, 806], [900, 836], [671, 836]], 'Vellore Institute of', 0.9979912152267711), ([[330, 844], [420, 844], [420, 874], [330, 874]], 'School', 0.9331382337564836), ([[710, 838], [860, 838], [860, 880], [710, 880]], 'Technology', 0.9999782862255014), ([[265, 873], [484, 873], [484, 903], [265, 903]], 'Computer science as', 0.9856117485954577), ([[659, 873], [898, 873], [898, 903], [659, 903]], 'Computer science with', 0.9892953758075885), ([[296, 904], [454, 904], [454, 932], [296, 932]], 'school elective', 0.9993101959497797), ([[649, 902], [910, 902], [910, 934], [649, 934]], 'specialization in Artificial', 0.8867115702417163), ([[650, 936], [908, 936], [908, 966], [650, 966]], 'Intelligence and Machine', 0.7816613650754609), ([[732, 970], [826, 970], [826, 998], [732, 998]], 'Learning', 0.718654011150041), ([[428, 1004], [706, 1004], [706, 1036], [428, 1036]], 'EXP E R / E N € E', 0.2873476174311585), ([[110, 1089], [600, 1089], [600, 1116], [110, 1116]], 'CREATED A HEALTH MONITORINC SYSTEM ML MODEL', 0.8170762462438413), ([[110, 1127], [538, 1127], [538, 1152], [110, 1152]], 'COMPLETED A PYTHON COURSE ON COURSERA', 0.7847292460449455), ([[160, 1286], [408, 1286], [408, 1318], [160, 1318]], 'INTE R E $ T $', 0.5185401181690498), ([[575, 1285], [783, 1285], [783, 1317], [575, 1317]], 'S 0 F W A R E', 0.8797797435788024), ([[804, 1286], [962, 1286], [962, 1318], [804, 1318]], 'S KLL $', 0.7049736795684455), ([[188, 1342], [260, 1342], [260, 1366], [188, 1366]], 'Theatre', 0.9999744075885222), ([[187, 1379], [256, 1379], [256, 1408], [187, 1408]], 'Cycling', 0.9999721547252717), ([[187, 1416], [302, 1416], [302, 1445], [187, 1445]], 'Photography', 0.8237151334237998), ([[558, 1418], [592, 1418], [592, 1442], [558, 1442]], 'PY', 0.9962368463901332), ([[818, 1414], [858, 1414], [858, 1442], [818, 1442]], 'ML', 0.9992683248408641), ([[188, 1458], [282, 1458], [282, 1482], [188, 1482]], 'Swimming', 0.9999672095291728), ([[187, 1493], [372, 1493], [372, 1522], [187, 1522]], 'Contemporary Dance', 0.920523529748933)]\n"
          ]
        }
      ]
    },
    {
      "cell_type": "code",
      "source": [
        "for detection in result:\n",
        "  text2 = detection[1]"
      ],
      "metadata": {
        "id": "a1xHktw78Kcq"
      },
      "execution_count": null,
      "outputs": []
    },
    {
      "cell_type": "code",
      "source": [
        "print(text2)"
      ],
      "metadata": {
        "colab": {
          "base_uri": "https://localhost:8080/"
        },
        "id": "hLMBYd_j88Rn",
        "outputId": "6567f55b-5a3c-497b-cbbf-1895ede8328e"
      },
      "execution_count": null,
      "outputs": [
        {
          "output_type": "stream",
          "name": "stdout",
          "text": [
            "Contemporary Dance\n"
          ]
        }
      ]
    },
    {
      "cell_type": "markdown",
      "source": [
        "pyocr"
      ],
      "metadata": {
        "id": "DDkv7t4v_pqL"
      }
    },
    {
      "cell_type": "code",
      "source": [
        "!pip install pyocr"
      ],
      "metadata": {
        "colab": {
          "base_uri": "https://localhost:8080/"
        },
        "id": "DVarx3kb_9zX",
        "outputId": "8556db6a-b3b4-4279-e923-ddf2a73b64ca"
      },
      "execution_count": null,
      "outputs": [
        {
          "output_type": "stream",
          "name": "stdout",
          "text": [
            "Requirement already satisfied: pyocr in /usr/local/lib/python3.10/dist-packages (0.8.3)\n",
            "Requirement already satisfied: Pillow in /usr/local/lib/python3.10/dist-packages (from pyocr) (9.4.0)\n"
          ]
        }
      ]
    },
    {
      "cell_type": "code",
      "source": [
        "import PIL.Image as pil\n",
        "import pyocr as pocr\n",
        "import pyocr.builders as ocrb"
      ],
      "metadata": {
        "id": "MIVojJUH_qvA"
      },
      "execution_count": null,
      "outputs": []
    },
    {
      "cell_type": "code",
      "source": [
        "tools = pocr.get_available_tools()\n",
        "if len(tools) == 0:\n",
        "  print(\"No OCR tool found.\")\n",
        "  exit(1)\n",
        "ocr_tool = tools[0]"
      ],
      "metadata": {
        "id": "UXan4TyCAI3e"
      },
      "execution_count": null,
      "outputs": []
    },
    {
      "cell_type": "code",
      "source": [
        "image3 = pil.open('resume.jpeg')"
      ],
      "metadata": {
        "id": "GjHTljc3AXA7"
      },
      "execution_count": null,
      "outputs": []
    },
    {
      "cell_type": "code",
      "source": [
        "text3 = ocr_tool.image_to_string( image3, builder=ocrb.TextBuilder() )"
      ],
      "metadata": {
        "id": "9SNjPT7_AfwL"
      },
      "execution_count": null,
      "outputs": []
    },
    {
      "cell_type": "code",
      "source": [
        "print(text3)"
      ],
      "metadata": {
        "colab": {
          "base_uri": "https://localhost:8080/"
        },
        "id": "LiNCK5oIBLxy",
        "outputId": "812ccc2f-a0c9-40cb-8272-b2b3db7024ca"
      },
      "execution_count": null,
      "outputs": [
        {
          "output_type": "stream",
          "name": "stdout",
          "text": [
            "https://www.|linkedin.com/in/\n",
            "ananya-viswanath-697a79220\n",
            "\n",
            " \n",
            "\n",
            "©7491 9176022850 9 236084, dif garden city, [XJ : ananya22x22@gmail.com\n",
            "semmenchery, chennai-\n",
            "600119, Tamil nadu, india\n",
            "\n",
            "ANANYA\n",
            "VISWANATH\n",
            "\n",
            "FIRST YEAR UNDERGRADUATE STUDENT PURSUING COMPUTER SCIENCE\n",
            "WITH SPECIALIZATION IN ARTIFICIAL INTELLIGENCE AND MACHINE\n",
            "LEARNING AT VELLORE INSTITUTE OF TECHNOLOGY\n",
            "\n",
            "ABOUT ME\n",
            "\n",
            " \n",
            "\n",
            "I'M ANANYA VISWANATH FROM THE VIBRANT CITY, CHENNAI. I'M A FIRST-YEAR UNDERGRADUATE STUDENT\n",
            "AT VIT, CHENNAI. I'M A RELIABLE PERSON WHO IS GREAT AT TIME MANAGEMENT AND ALSO A TEAM PLAYER\n",
            "WHO WORKS WELL WITH PEERS. I'M ORGANIZED AND DRIVEN TO ACHIEVE AND CREATE TO THE MAXIMUM OF\n",
            "MY ABILITIES. | ENJOY PURSUING SOCIAL WORK IN MY FREE TIME.\n",
            "\n",
            "EDUCATION\n",
            "\n",
            " \n",
            "\n",
            " \n",
            "\n",
            "2019 - 2021 2021 - now\n",
            "Sri Chaitanya Techno Vellore Institute of\n",
            "School Technology\n",
            "Computer science as Computer science with\n",
            "school elective specialization in Artificial\n",
            "Intelligence and Machine\n",
            "Learning\n",
            "E-X-P.E_R.|-E.N.C_E\n",
            "\n",
            " \n",
            "\n",
            "¢ CREATED A HEALTH MONITORING SYSTEM ML MODEL\n",
            "« COMPLETED A PYTHON COURSE ON COURSERA\n",
            "\n",
            "INTERESTS SOFWARE SKILLS\n",
            "\n",
            "we Theatre\n",
            "_ps\n",
            "\n",
            "OD Cycling\n",
            "H@R Photography PY c ML J\n",
            "Swimming\n",
            "\n",
            "ase\n",
            "* Contemporary Dance\n"
          ]
        }
      ]
    },
    {
      "cell_type": "markdown",
      "source": [
        "reducing noise"
      ],
      "metadata": {
        "id": "EHbbQPS5DTbh"
      }
    },
    {
      "cell_type": "code",
      "source": [
        "!pip install pyspellchecker"
      ],
      "metadata": {
        "colab": {
          "base_uri": "https://localhost:8080/"
        },
        "id": "D0QxovBgDrMn",
        "outputId": "81235e02-2bb2-4cd0-8aa9-fc8c1833f4db"
      },
      "execution_count": null,
      "outputs": [
        {
          "output_type": "stream",
          "name": "stdout",
          "text": [
            "Collecting pyspellchecker\n",
            "  Downloading pyspellchecker-0.7.2-py3-none-any.whl (3.4 MB)\n",
            "\u001b[2K     \u001b[90m━━━━━━━━━━━━━━━━━━━━━━━━━━━━━━━━━━━━━━━━\u001b[0m \u001b[32m3.4/3.4 MB\u001b[0m \u001b[31m8.7 MB/s\u001b[0m eta \u001b[36m0:00:00\u001b[0m\n",
            "\u001b[?25hInstalling collected packages: pyspellchecker\n",
            "Successfully installed pyspellchecker-0.7.2\n"
          ]
        }
      ]
    },
    {
      "cell_type": "code",
      "source": [
        "import re\n",
        "from spellchecker import SpellChecker"
      ],
      "metadata": {
        "id": "BVdtq1a6DV-z"
      },
      "execution_count": null,
      "outputs": []
    },
    {
      "cell_type": "code",
      "source": [
        "cleaned_text = re.sub(r'[^a-zA-Z0-9\\s]', '', text1)\n",
        "cleaned_text = re.sub(r'\\s+', ' ', cleaned_text).strip()"
      ],
      "metadata": {
        "id": "tq6sgjrvDX9D"
      },
      "execution_count": null,
      "outputs": []
    },
    {
      "cell_type": "code",
      "source": [
        "spell = SpellChecker()\n",
        "words = cleaned_text.split()\n",
        "corrected_words = []\n",
        "for word in words:\n",
        "    corrected_word = spell.correction(word)\n",
        "    if corrected_word is not None:\n",
        "        corrected_words.append(corrected_word)\n",
        "    else:\n",
        "        corrected_words.append(word)\n",
        "cleaned_text = ' '.join(corrected_words)"
      ],
      "metadata": {
        "id": "X_Gs34joD4SY"
      },
      "execution_count": null,
      "outputs": []
    },
    {
      "cell_type": "code",
      "source": [
        "print(cleaned_text)"
      ],
      "metadata": {
        "colab": {
          "base_uri": "https://localhost:8080/"
        },
        "id": "_iveclTbD-06",
        "outputId": "01c06db7-aeca-4b53-e011-27c2338fd49d"
      },
      "execution_count": null,
      "outputs": [
        {
          "output_type": "stream",
          "name": "stdout",
          "text": [
            "httpswwwlinkedincomin 7491 9176022850 9 236084 dif garden city xu ananya22x22gmailcom ananyaviswanath697a79220 semmenchery chennai 600119 Tamil nada india banana VISWANATH FIRST YEAR UNDERGRADUATE STUDENT PURSUING COMPUTER SCIENCE WITH SPECIALIZATION IN ARTIFICIAL INTELLIGENCE AND MACHINE LEARNING AT deplore INSTITUTE OF TECHNOLOGY ABOUT ME IM banana VISWANATH FROM THE VIBRANT CITY CHENNAI IM A FIRSTYEAR UNDERGRADUATE STUDENT AT it CHENNAI IM A RELIABLE PERSON WHO IS GREAT AT TIME MANAGEMENT AND ALSO A TEAM PLAYER WHO WORKS WELL WITH PEERS IM ORGANIZED AND DRIVEN TO ACHIEVE AND CREATE TO THE MAXIMUM OF MY ABILITIES ENJOY PURSUING SOCIAL WORK IN MY FREE TIME EDUCATION 2019 2021 2021 now Sri Chaitanya Techno deplore Institute of School Technology Computer science as Computer science with school elective specialization in Artificial Intelligence and Machine Learning EXPERIENCE CREATED A HEALTH MONITORING SYSTEM my MODEL COMPLETED A PYTHON COURSE ON course INTERESTS software SKILLS we Theatre OW cycling iF Photography my i my i is Swimming Contemporary Dance\n"
          ]
        }
      ]
    }
  ]
}